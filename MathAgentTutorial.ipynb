{
 "cells": [
  {
   "cell_type": "code",
   "execution_count": 4,
   "id": "a752e036-358b-4216-8aea-c66ac2376c03",
   "metadata": {},
   "outputs": [],
   "source": [
    "%run utilities.ipynb\n"
   ]
  },
  {
   "cell_type": "code",
   "execution_count": 5,
   "id": "8a3ae31f-c4d9-4a1b-817d-62bc69fdbcaf",
   "metadata": {},
   "outputs": [],
   "source": [
    "model= ChatOpenAI(model=\"gpt-3.5-turbo\", temperature=0)\n",
    "#model= ChatOpenAI(model=\"gpt-4o\", temperature=0) \n",
    "wolfram_tool = load_tools([\"wolfram-alpha\"])\n",
    "wolfram_node = ToolNode(tools=[*wolfram_tool])\n",
    "model_with_tool = model.bind_tools(wolfram_tool)"
   ]
  },
  {
   "cell_type": "markdown",
   "id": "f41d45f9-190f-4734-93c7-ab73c1e87c60",
   "metadata": {},
   "source": [
    "# Simple agent with one node"
   ]
  },
  {
   "cell_type": "code",
   "execution_count": 6,
   "id": "f7eddf4f-b589-476a-8160-b0e7ba70f777",
   "metadata": {},
   "outputs": [
    {
     "data": {
      "image/jpeg": "[encoded data removed]",
      "text/plain": [
       "<IPython.core.display.Image object>"
      ]
     },
     "metadata": {},
     "output_type": "display_data"
    },
    {
     "name": "stdout",
     "output_type": "stream",
     "text": [
      "Inside node 1\n",
      "Inside node 1\n",
      "Inside node 1\n",
      "the end\n"
     ]
    }
   ],
   "source": [
    "class State(TypedDict):\n",
    "    messages: Annotated[list, add_messages]\n",
    "    \n",
    "def node1(state:State):\n",
    "    print(\"Inside node 1\")\n",
    "    answer=model_with_tool.invoke(state[\"messages\"])\n",
    "    return {\"messages\": answer} \n",
    "tool_node = wolfram_node\n",
    "\n",
    "\n",
    "# Define the function that determines whether to continue or not\n",
    "def should_continue(state):\n",
    "    messages = state[\"messages\"]\n",
    "    last_message = messages[-1]\n",
    "    # If there is no function call, then we finish\n",
    "    if not last_message.tool_calls:\n",
    "        print(\"the end\")\n",
    "        return \"end\"\n",
    "    else:\n",
    "        return \"tools\"\n",
    "\n",
    "def init_graph():\n",
    "    memory = MemorySaver()\n",
    "    graph_builder = StateGraph(State)    \n",
    "    graph_builder.add_node(\"node1\", node1)\n",
    "    graph_builder.add_node(\"tools\", tool_node)\n",
    "    graph_builder.add_conditional_edges(\n",
    "        \"node1\",\n",
    "#        tools_condition,\n",
    "#        {\"action\": \"tools\", \"__end__\": \"node3\"},\n",
    "        should_continue,\n",
    "        {\"tools\":\"tools\",\"end\":END}\n",
    "    )\n",
    "\n",
    "\n",
    "    \n",
    "# Any time a tool is called, we return to the chatbot to decide the next step\n",
    "    graph_builder.add_edge(\"tools\", \"node1\")\n",
    "\n",
    "    graph_builder.set_entry_point(\"node1\")\n",
    "     \n",
    "    graph = graph_builder.compile(checkpointer=memory)\n",
    "    return graph\n",
    "    \n",
    "def run_graph(state,graph):       \n",
    "        thread = {\"configurable\": {\"thread_id\": \"1\"}}\n",
    "        state = graph.invoke(state,thread)\n",
    "        return state\n",
    "\n",
    "graph=init_graph()\n",
    "state=State()\n",
    "display(Image(graph.get_graph().draw_mermaid_png()))\n",
    "query=\"what is 2^3.45 plus 1. The take the third root. Use this for the upper limit of the integral of log(x) with lower limit 1\"\n",
    "state[\"messages\"] =query\n",
    "\n",
    "state=run_graph(state,graph)"
   ]
  },
  {
   "cell_type": "code",
   "execution_count": 8,
   "id": "9e4fac58-c369-4b58-aa6f-0609b4745f40",
   "metadata": {},
   "outputs": [
    {
     "name": "stdout",
     "output_type": "stream",
     "text": [
      "content='what is 2^3.45 plus 1. The take the third root. Use this for the upper limit of the integral of log(x) with lower limit 1' additional_kwargs={} response_metadata={} id='f39a2be3-7569-4e2e-b1fa-8208892dd2c0'\n",
      "content='' additional_kwargs={'tool_calls': [{'id': 'call_AANLfmDhUvGVBwGZdViG8BPy', 'function': {'arguments': '{\"query\":\"(2^3.45 + 1)^(1/3)\"}', 'name': 'wolfram_alpha'}, 'type': 'function'}], 'refusal': None} response_metadata={'token_usage': {'completion_tokens': 30, 'prompt_tokens': 111, 'total_tokens': 141, 'completion_tokens_details': {'reasoning_tokens': 0, 'audio_tokens': 0, 'accepted_prediction_tokens': 0, 'rejected_prediction_tokens': 0}, 'prompt_tokens_details': {'cached_tokens': 0, 'audio_tokens': 0}}, 'model_name': 'gpt-3.5-turbo-0125', 'system_fingerprint': None, 'finish_reason': 'tool_calls', 'logprobs': None} id='run-f10d8923-9f5f-4295-b9b8-71d83c2985ac-0' tool_calls=[{'name': 'wolfram_alpha', 'args': {'query': '(2^3.45 + 1)^(1/3)'}, 'id': 'call_AANLfmDhUvGVBwGZdViG8BPy', 'type': 'tool_call'}] usage_metadata={'input_tokens': 111, 'output_tokens': 30, 'total_tokens': 141}\n",
      "content='Assumption: (2^3.45 + 1)^(1/3) \\nAnswer: 2.28486...' name='wolfram_alpha' id='519b7eba-c298-47de-9db3-75241b6d79a1' tool_call_id='call_AANLfmDhUvGVBwGZdViG8BPy'\n",
      "content='' additional_kwargs={'tool_calls': [{'id': 'call_xIfAvNRRWbfwMT5l0wvqvDXe', 'function': {'arguments': '{\"query\":\"integral of log(x) from 1 to 2.28486\"}', 'name': 'wolfram_alpha'}, 'type': 'function'}], 'refusal': None} response_metadata={'token_usage': {'completion_tokens': 29, 'prompt_tokens': 178, 'total_tokens': 207, 'completion_tokens_details': {'reasoning_tokens': 0, 'audio_tokens': 0, 'accepted_prediction_tokens': 0, 'rejected_prediction_tokens': 0}, 'prompt_tokens_details': {'cached_tokens': 0, 'audio_tokens': 0}}, 'model_name': 'gpt-3.5-turbo-0125', 'system_fingerprint': None, 'finish_reason': 'tool_calls', 'logprobs': None} id='run-fb66a589-0643-415e-abb1-cc527153c4dc-0' tool_calls=[{'name': 'wolfram_alpha', 'args': {'query': 'integral of log(x) from 1 to 2.28486'}, 'id': 'call_xIfAvNRRWbfwMT5l0wvqvDXe', 'type': 'tool_call'}] usage_metadata={'input_tokens': 178, 'output_tokens': 29, 'total_tokens': 207}\n",
      "content='Assumption: integral_1^2.28486 log(x) dx = 0.603131 \\nAnswer: integral_1^2.28486 log(x) dx = 0.603131' name='wolfram_alpha' id='708bd30e-5c68-4cf6-a7b0-4ef2826f4ef0' tool_call_id='call_xIfAvNRRWbfwMT5l0wvqvDXe'\n",
      "content='The value of \\\\( 2^{3.45} + 1 \\\\) to the power of \\\\( \\\\frac{1}{3} \\\\) is approximately 2.28486. \\n\\nUsing this value as the upper limit, the integral of \\\\( \\\\log(x) \\\\) from 1 to approximately 2.28486 is equal to 0.603131.' additional_kwargs={'refusal': None} response_metadata={'token_usage': {'completion_tokens': 77, 'prompt_tokens': 259, 'total_tokens': 336, 'completion_tokens_details': {'reasoning_tokens': 0, 'audio_tokens': 0, 'accepted_prediction_tokens': 0, 'rejected_prediction_tokens': 0}, 'prompt_tokens_details': {'cached_tokens': 0, 'audio_tokens': 0}}, 'model_name': 'gpt-3.5-turbo-0125', 'system_fingerprint': None, 'finish_reason': 'stop', 'logprobs': None} id='run-ca915b25-72ea-45af-ae87-043fc3674021-0' usage_metadata={'input_tokens': 259, 'output_tokens': 77, 'total_tokens': 336}\n"
     ]
    }
   ],
   "source": [
    "for i in state[\"messages\"]:\n",
    "    print(i)"
   ]
  },
  {
   "cell_type": "code",
   "execution_count": 9,
   "id": "797e5903-4a67-45a1-a37d-ac9b9cba19ff",
   "metadata": {},
   "outputs": [
    {
     "name": "stdout",
     "output_type": "stream",
     "text": [
      "what is 2^3.45 plus 1. The take the third root. Use this for the upper limit of the integral of log(x) with lower limit 1\n",
      "\n",
      "Assumption: (2^3.45 + 1)^(1/3) \n",
      "Answer: 2.28486...\n",
      "\n",
      "Assumption: integral_1^2.28486 log(x) dx = 0.603131 \n",
      "Answer: integral_1^2.28486 log(x) dx = 0.603131\n",
      "The value of \\( 2^{3.45} + 1 \\) to the power of \\( \\frac{1}{3} \\) is approximately 2.28486. \n",
      "\n",
      "Using this value as the upper limit, the integral of \\( \\log(x) \\) from 1 to approximately 2.28486 is equal to 0.603131.\n"
     ]
    }
   ],
   "source": [
    "for i in state[\"messages\"]:\n",
    "    print(i.content)"
   ]
  },
  {
   "cell_type": "markdown",
   "id": "0469d5ce-f96e-42fe-a613-3a14c91fe137",
   "metadata": {},
   "source": [
    "# Math agent with 2 nodes"
   ]
  },
  {
   "cell_type": "code",
   "execution_count": 10,
   "id": "7b669268-43ea-4795-8a8a-95a4739d3be5",
   "metadata": {},
   "outputs": [
    {
     "data": {
      "image/jpeg": "[encoded data removed]",
      "text/plain": [
       "<IPython.core.display.Image object>"
      ]
     },
     "metadata": {},
     "output_type": "display_data"
    },
    {
     "name": "stdout",
     "output_type": "stream",
     "text": [
      "Inside node 1\n",
      "Inside node 2\n",
      "Inside node 2\n",
      "the end\n"
     ]
    }
   ],
   "source": [
    "class State(TypedDict):\n",
    "    task:str\n",
    "    answer:str\n",
    "    messages: Annotated[list, add_messages]\n",
    "\n",
    "def node1(state:State):\n",
    "    print(\"Inside node 1\")\n",
    "    answer=model.invoke(state[\"task\"])\n",
    "    return {\"messages\": answer} \n",
    "\n",
    "def node2(state:State):\n",
    "    print(\"Inside node 2\")\n",
    "    answer=model_with_tool.invoke(state[\"messages\"])\n",
    "    return {\"answer\":answer,\"messages\": answer} \n",
    "\n",
    "\n",
    "tool_node = wolfram_node\n",
    "\n",
    "\n",
    "# Define the function that determines whether to continue or not\n",
    "def should_continue(state):\n",
    "    messages = state[\"messages\"]\n",
    "    last_message = messages[-1]\n",
    "    # If there is no function call, then we finish\n",
    "    if not last_message.tool_calls:\n",
    "        print(\"the end\")\n",
    "        return \"end\"\n",
    "    else:\n",
    "        return \"tools\"\n",
    "\n",
    "def init_graph():\n",
    "    memory = MemorySaver()\n",
    "    graph_builder = StateGraph(State)    \n",
    "    graph_builder.add_node(\"node1\", node1)\n",
    "    graph_builder.add_node(\"node2\", node2)\n",
    "    graph_builder.add_edge(\"node1\", \"node2\")\n",
    "    \n",
    "    graph_builder.add_node(\"tools\", tool_node)\n",
    "    graph_builder.add_conditional_edges(\n",
    "        \"node2\",\n",
    "#        tools_condition,\n",
    "#        {\"action\": \"tools\", \"__end__\": \"node3\"},\n",
    "        should_continue,\n",
    "        {\"tools\":\"tools\",\"end\":END}\n",
    "    )\n",
    "\n",
    "\n",
    "    \n",
    "# Any time a tool is called, we return to the chatbot to decide the next step\n",
    "    graph_builder.add_edge(\"tools\", \"node2\")\n",
    "\n",
    "    graph_builder.set_entry_point(\"node1\")\n",
    "     \n",
    "    graph = graph_builder.compile(checkpointer=memory)\n",
    "    return graph\n",
    "    \n",
    "def run_graph(state,graph):       \n",
    "        thread = {\"configurable\": {\"thread_id\": \"1\"}}\n",
    "        state = graph.invoke(state,thread)\n",
    "        return state\n",
    "\n",
    "graph=init_graph()\n",
    "state=State()\n",
    "display(Image(graph.get_graph().draw_mermaid_png()))\n",
    "state[\"task\"] =\"Create a math problem involving an integral. Use numbers for the integral limits and solve\"\n",
    "\n",
    "state=run_graph(state,graph)"
   ]
  },
  {
   "cell_type": "code",
   "execution_count": 11,
   "id": "b14e96ba-017d-404f-aca0-888bc65d4120",
   "metadata": {},
   "outputs": [
    {
     "name": "stdout",
     "output_type": "stream",
     "text": [
      "content='Find the integral of f(x) = 2x^2 + 3x - 1 from x = 1 to x = 4.\\n\\nTo solve this problem, we first need to find the antiderivative of f(x):\\nF(x) = (2/3)x^3 + (3/2)x^2 - x\\n\\nNext, we evaluate F(x) at the upper and lower limits of integration:\\nF(4) = (2/3)(4)^3 + (3/2)(4)^2 - 4 = 85.33\\nF(1) = (2/3)(1)^3 + (3/2)(1)^2 - 1 = 1.5\\n\\nFinally, we find the definite integral by subtracting the lower limit from the upper limit:\\n∫[1,4] (2x^2 + 3x - 1) dx = F(4) - F(1) = 85.33 - 1.5 = 83.83\\n\\nTherefore, the integral of f(x) from x = 1 to x = 4 is 83.83.' additional_kwargs={'refusal': None} response_metadata={'token_usage': {'completion_tokens': 238, 'prompt_tokens': 23, 'total_tokens': 261, 'completion_tokens_details': {'reasoning_tokens': 0, 'audio_tokens': 0, 'accepted_prediction_tokens': 0, 'rejected_prediction_tokens': 0}, 'prompt_tokens_details': {'cached_tokens': 0, 'audio_tokens': 0}}, 'model_name': 'gpt-3.5-turbo-0125', 'system_fingerprint': None, 'finish_reason': 'stop', 'logprobs': None} id='run-bc322060-270a-45b5-8ada-73768730b6cb-0' usage_metadata={'input_tokens': 23, 'output_tokens': 238, 'total_tokens': 261}\n",
      "content='' additional_kwargs={'tool_calls': [{'id': 'call_IDRKj5p5YrgqngrcMhFK3dqb', 'function': {'arguments': '{\"query\":\"integral of 2x^2 + 3x - 1 from 1 to 4\"}', 'name': 'wolfram_alpha'}, 'type': 'function'}], 'refusal': None} response_metadata={'token_usage': {'completion_tokens': 35, 'prompt_tokens': 313, 'total_tokens': 348, 'completion_tokens_details': {'reasoning_tokens': 0, 'audio_tokens': 0, 'accepted_prediction_tokens': 0, 'rejected_prediction_tokens': 0}, 'prompt_tokens_details': {'cached_tokens': 0, 'audio_tokens': 0}}, 'model_name': 'gpt-3.5-turbo-0125', 'system_fingerprint': None, 'finish_reason': 'tool_calls', 'logprobs': None} id='run-8393b2c7-d23f-41ef-ac87-7bd748c004df-0' tool_calls=[{'name': 'wolfram_alpha', 'args': {'query': 'integral of 2x^2 + 3x - 1 from 1 to 4'}, 'id': 'call_IDRKj5p5YrgqngrcMhFK3dqb', 'type': 'tool_call'}] usage_metadata={'input_tokens': 313, 'output_tokens': 35, 'total_tokens': 348}\n",
      "content='Assumption: integral_1^4 (2 x^2 + 3 x - 1) dx = 123/2 = 61.5 \\nAnswer: integral_1^4 (2 x^2 + 3 x - 1) dx = 123/2 = 61.5' name='wolfram_alpha' id='52617031-a948-4213-a6f9-26ca914840e0' tool_call_id='call_IDRKj5p5YrgqngrcMhFK3dqb'\n",
      "content='The integral of \\\\(2x^2 + 3x - 1\\\\) from \\\\(x = 1\\\\) to \\\\(x = 4\\\\) is \\\\(\\\\frac{123}{2}\\\\) or 61.5.' additional_kwargs={'refusal': None} response_metadata={'token_usage': {'completion_tokens': 47, 'prompt_tokens': 422, 'total_tokens': 469, 'completion_tokens_details': {'reasoning_tokens': 0, 'audio_tokens': 0, 'accepted_prediction_tokens': 0, 'rejected_prediction_tokens': 0}, 'prompt_tokens_details': {'cached_tokens': 0, 'audio_tokens': 0}}, 'model_name': 'gpt-3.5-turbo-0125', 'system_fingerprint': None, 'finish_reason': 'stop', 'logprobs': None} id='run-40f45111-b1a6-41d6-aa68-cb4c1187c5eb-0' usage_metadata={'input_tokens': 422, 'output_tokens': 47, 'total_tokens': 469}\n"
     ]
    }
   ],
   "source": [
    "for i in state[\"messages\"]:\n",
    "    print(i)"
   ]
  },
  {
   "cell_type": "code",
   "execution_count": 12,
   "id": "4be52950-8fca-467f-8ff9-587c39d7e9f7",
   "metadata": {},
   "outputs": [
    {
     "name": "stdout",
     "output_type": "stream",
     "text": [
      "None\n",
      "Find the integral of f(x) = 2x^2 + 3x - 1 from x = 1 to x = 4.\n",
      "\n",
      "To solve this problem, we first need to find the antiderivative of f(x):\n",
      "F(x) = (2/3)x^3 + (3/2)x^2 - x\n",
      "\n",
      "Next, we evaluate F(x) at the upper and lower limits of integration:\n",
      "F(4) = (2/3)(4)^3 + (3/2)(4)^2 - 4 = 85.33\n",
      "F(1) = (2/3)(1)^3 + (3/2)(1)^2 - 1 = 1.5\n",
      "\n",
      "Finally, we find the definite integral by subtracting the lower limit from the upper limit:\n",
      "∫[1,4] (2x^2 + 3x - 1) dx = F(4) - F(1) = 85.33 - 1.5 = 83.83\n",
      "\n",
      "Therefore, the integral of f(x) from x = 1 to x = 4 is 83.83.\n",
      "None\n",
      "\n",
      "wolfram_alpha\n",
      "Assumption: integral_1^4 (2 x^2 + 3 x - 1) dx = 123/2 = 61.5 \n",
      "Answer: integral_1^4 (2 x^2 + 3 x - 1) dx = 123/2 = 61.5\n",
      "None\n",
      "The integral of \\(2x^2 + 3x - 1\\) from \\(x = 1\\) to \\(x = 4\\) is \\(\\frac{123}{2}\\) or 61.5.\n"
     ]
    }
   ],
   "source": [
    "for i in state[\"messages\"]:\n",
    "    print(i.name)\n",
    "    print(i.content)\n",
    "    "
   ]
  },
  {
   "cell_type": "markdown",
   "id": "bd296b2d-aa4f-4696-9b4a-6d977db566a2",
   "metadata": {},
   "source": [
    "# Exercise: Change such that the problem is generated in node1 and afterwards solved in node2 with help of the math tool"
   ]
  },
  {
   "cell_type": "markdown",
   "id": "156123db-c4dc-49c8-94f4-9dd712ab90b5",
   "metadata": {},
   "source": [
    "## Solution"
   ]
  },
  {
   "cell_type": "code",
   "execution_count": 31,
   "id": "8999e6a0-238b-413d-9a33-05ef13f8207f",
   "metadata": {},
   "outputs": [
    {
     "data": {
      "image/jpeg": "[encoded data removed]",
      "text/plain": [
       "<IPython.core.display.Image object>"
      ]
     },
     "metadata": {},
     "output_type": "display_data"
    },
    {
     "name": "stdout",
     "output_type": "stream",
     "text": [
      "Inside node 1\n",
      "Inside node 2\n",
      "Inside node 2\n",
      "the end\n"
     ]
    }
   ],
   "source": [
    "def get_SOLVE_PROMPT (problem):\n",
    "    SOLVE_PROMPT =f\"\"\" \n",
    "\n",
    "    Use the provided Wolram Tool to solve the Problem:\n",
    "    {problem}\n",
    "    \n",
    "    ### Follow the instructions below:\n",
    "        \n",
    "    1. **Step-by-Step Solution**:\n",
    "       - Provide a detailed, step-by-step solution to the problem, ensuring clarity at each stage.\n",
    "       - Explain each step thoroughly to make the reasoning easy to follow and ensure that each part of the process is justified.\n",
    "    \n",
    "    2. **Solution Review**:\n",
    "       - Explain in detail the meaning of the solution in the given context.\n",
    "    \n",
    "    \"\"\"\n",
    "    return SOLVE_PROMPT\n",
    "\n",
    "class State(TypedDict):\n",
    "    task:str\n",
    "    problem:str\n",
    "    messages: Annotated[list, add_messages]\n",
    "\n",
    "def node1(state:State):\n",
    "    print(\"Inside node 1\")\n",
    "    answer=model.invoke(state[\"task\"])\n",
    "    solve_prompt=get_SOLVE_PROMPT(answer)\n",
    "    return {\"messages\":solve_prompt,\"problem\":answer} \n",
    "\n",
    "def node2(state:State):\n",
    "    print(\"Inside node 2\")\n",
    "    answer=model_with_tool.invoke(state[\"messages\"])\n",
    "    return {\"messages\": answer} \n",
    "\n",
    "\n",
    "tool_node = wolfram_node\n",
    "\n",
    "\n",
    "# Define the function that determines whether to continue or not\n",
    "def should_continue(state):\n",
    "    messages = state[\"messages\"]\n",
    "    last_message = messages[-1]\n",
    "    # If there is no function call, then we finish\n",
    "    if not last_message.tool_calls:\n",
    "        print(\"the end\")\n",
    "        return \"end\"\n",
    "    else:\n",
    "        return \"tools\"\n",
    "\n",
    "def init_graph():\n",
    "    memory = MemorySaver()\n",
    "    graph_builder = StateGraph(State)    \n",
    "    graph_builder.add_node(\"node1\", node1)\n",
    "    graph_builder.add_node(\"node2\", node2)\n",
    "    graph_builder.add_edge(\"node1\", \"node2\")\n",
    "    \n",
    "    graph_builder.add_node(\"tools\", tool_node)\n",
    "    graph_builder.add_conditional_edges(\n",
    "        \"node2\",\n",
    "#        tools_condition,\n",
    "#        {\"action\": \"tools\", \"__end__\": \"node3\"},\n",
    "        should_continue,\n",
    "        {\"tools\":\"tools\",\"end\":END}\n",
    "    )\n",
    "\n",
    "\n",
    "    \n",
    "# Any time a tool is called, we return to the chatbot to decide the next step\n",
    "    graph_builder.add_edge(\"tools\", \"node2\")\n",
    "\n",
    "    graph_builder.set_entry_point(\"node1\")\n",
    "     \n",
    "    graph = graph_builder.compile(checkpointer=memory)\n",
    "    return graph\n",
    "    \n",
    "def run_graph(state,graph):       \n",
    "        thread = {\"configurable\": {\"thread_id\": \"1\"}}\n",
    "        state = graph.invoke(state,thread)\n",
    "        return state\n",
    "\n",
    "graph=init_graph()\n",
    "state=State()\n",
    "display(Image(graph.get_graph().draw_mermaid_png()))\n",
    "state[\"task\"] =\"Create a math problem involving an integral. Do not solve the problem. Use numbers for the integral limits.\"\n",
    "state=run_graph(state,graph)"
   ]
  },
  {
   "cell_type": "code",
   "execution_count": 32,
   "id": "6db1dd95-d9bd-452e-9896-3c2f2eb6ac0d",
   "metadata": {},
   "outputs": [
    {
     "name": "stdout",
     "output_type": "stream",
     "text": [
      "content='Find the integral of f(x) = 2x^2 + 3x - 1 from x = 0 to x = 5.' additional_kwargs={'refusal': None} response_metadata={'token_usage': {'completion_tokens': 31, 'prompt_tokens': 28, 'total_tokens': 59, 'completion_tokens_details': {'reasoning_tokens': 0, 'audio_tokens': 0, 'accepted_prediction_tokens': 0, 'rejected_prediction_tokens': 0}, 'prompt_tokens_details': {'cached_tokens': 0, 'audio_tokens': 0}}, 'model_name': 'gpt-3.5-turbo-0125', 'system_fingerprint': None, 'finish_reason': 'stop', 'logprobs': None} id='run-5025e513-78a0-4649-876b-66bc9e416290-0' usage_metadata={'input_tokens': 28, 'output_tokens': 31, 'total_tokens': 59}\n"
     ]
    }
   ],
   "source": [
    "print(state[\"problem\"])"
   ]
  },
  {
   "cell_type": "code",
   "execution_count": 29,
   "id": "159222e4-a964-4d3a-ae34-1408d573d6be",
   "metadata": {},
   "outputs": [
    {
     "name": "stdout",
     "output_type": "stream",
     "text": [
      "None\n",
      " \n",
      "\n",
      "    Use the provided Wolram Tool to solve the Problem:\n",
      "    content='Find the integral of f(x) = 2x^2 + 3x - 1 from x = 0 to x = 5.' additional_kwargs={'refusal': None} response_metadata={'token_usage': {'completion_tokens': 31, 'prompt_tokens': 28, 'total_tokens': 59, 'completion_tokens_details': {'reasoning_tokens': 0, 'audio_tokens': 0, 'accepted_prediction_tokens': 0, 'rejected_prediction_tokens': 0}, 'prompt_tokens_details': {'cached_tokens': 0, 'audio_tokens': 0}}, 'model_name': 'gpt-3.5-turbo-0125', 'system_fingerprint': None, 'finish_reason': 'stop', 'logprobs': None} id='run-2b89837f-3491-46d7-a930-1cd08db161ab-0' usage_metadata={'input_tokens': 28, 'output_tokens': 31, 'total_tokens': 59}\n",
      "    \n",
      "    ### Follow the instructions below:\n",
      "        \n",
      "    1. **Step-by-Step Solution**:\n",
      "       - Provide a detailed, step-by-step solution to the problem, ensuring clarity at each stage.\n",
      "       - Explain each step thoroughly to make the reasoning easy to follow and ensure that each part of the process is justified.\n",
      "    \n",
      "    2. **Solution Review**:\n",
      "       - Explain in detail the meaning of the solution in the given context.\n",
      "    \n",
      "    \n",
      "None\n",
      "\n",
      "wolfram_alpha\n",
      "Assumption: integral_0^5 (2 x^2 + 3 x - 1) dx = 695/6≈115.83 \n",
      "Answer: integral_0^5 (2 x^2 + 3 x - 1) dx = 695/6≈115.83\n",
      "None\n",
      "### Step-by-Step Solution:\n",
      "1. Given function: \\( f(x) = 2x^2 + 3x - 1 \\)\n",
      "2. To find the integral of \\( f(x) \\) from \\( x = 0 \\) to \\( x = 5 \\), we use the definite integral notation: \\(\\int_{0}^{5} (2x^2 + 3x - 1) dx \\)\n",
      "3. Calculate the integral: \\(\\int_{0}^{5} (2x^2 + 3x - 1) dx = \\frac{695}{6} \\approx 115.83\\)\n",
      "\n",
      "### Solution Review:\n",
      "The integral of the function \\( f(x) = 2x^2 + 3x - 1 \\) from \\( x = 0 \\) to \\( x = 5 \\) is approximately 115.83. This value represents the area under the curve of the function between the limits of integration, 0 and 5. It signifies the total accumulation of the function's values within that range, providing a quantitative measure of the function's behavior over the specified interval.\n"
     ]
    }
   ],
   "source": [
    "for i in state[\"messages\"]:\n",
    "    print(i.name)\n",
    "    print(i.content)"
   ]
  },
  {
   "cell_type": "code",
   "execution_count": null,
   "id": "81c38568-227a-41c1-b84a-b1c108104242",
   "metadata": {},
   "outputs": [],
   "source": []
  }
 ],
 "metadata": {
  "kernelspec": {
   "display_name": "Python 3 (ipykernel)",
   "language": "python",
   "name": "python3"
  },
  "language_info": {
   "codemirror_mode": {
    "name": "ipython",
    "version": 3
   },
   "file_extension": ".py",
   "mimetype": "text/x-python",
   "name": "python",
   "nbconvert_exporter": "python",
   "pygments_lexer": "ipython3",
   "version": "3.10.0"
  }
 },
 "nbformat": 4,
 "nbformat_minor": 5
}
